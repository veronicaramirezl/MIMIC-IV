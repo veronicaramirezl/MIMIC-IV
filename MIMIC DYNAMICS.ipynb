{
 "cells": [
  {
   "cell_type": "markdown",
   "metadata": {},
   "source": [
    "<span style='font-family: Times; font-size: 2em;'>MIMIC v. 2.2 Database Dynamic Exploratory Data Analysis</span>\n",
    "\n",
    "\n",
    "**Veronica Ramirez-Lopera** \n",
    "\n",
    "### Objectives: \n",
    "#### Main objective:\n",
    "-To assess whether the MIMIC-IV database contains sufficient sequential ECGs to support a study \n",
    "on the dynamic aging of the heart in heart failure patients.\n",
    "\n",
    "#### Secondary objectives:\n",
    "1. To analyze the timing of ECGs during each hospitalization.\n",
    "1. To visualize patient distribution by ECG frequency and hospitalization count.\n",
    "1. To describe a plan for the research protocol modifications according to the ECG data.\n",
    "\n",
    "### **Table of contents**\n",
    "- [Introduction](#introduction)\n",
    "- [Package Requirements](#package_requirements)\n",
    "- [Data importing](#importing)\n",
    "- [Data filtering and visualization](#filtering)\n",
    "- [Conclusions and plan](#conclusions)\n",
    "- [References](#references)\n",
    "\n",
    "## Introduction <a name='introduction'></a>\n",
    "MIMIC-IV is a freely available electronic health record (EHR) dataset encompassing a decade of patient information (2008-2019) from Beth Israel Deaconess Medical Center [1]. It surpasses its predecessor, MIMIC-III, with a better structure and additional patient information [2, 3].\n",
    "\n",
    "The dataset draws upon two primary sources: a comprehensive hospital-wide EHR system and an ICU-specific clinical information system [1]. Rigorous de-identification procedures ensure patient privacy while preserving the data's scientific integrity.\n",
    "\n",
    "It includes vital signs, diagnoses, medications, procedures, and de-identified clinical notes [1]. Researchers leverage MIMIC-IV to investigate disease progression, train machine learning models, and develop clinical decision support tools [1, 2].\n",
    "\n",
    "As a result, null dates of death indicate the patient was alive at least up to that time point. Inferences regarding patient death beyond one year cannot be made using MIMIC-IV (as per the PhyioNet website) [2]. The majority of patient death information is acquired from hospital records when the individual dies within the BIDMC or an affiliated institute.\n",
    "\n",
    "MIMIC-IV also offers a dedicated module: MIMIC-IV ECG. This subset focuses specifically on diagnostic electrocardiograms (ECGs) [2]. It includes approximately 800,000 10-second ECG recordings from nearly 160,000 unique patients. Each ECG utilizes 12 leads and is sampled at 500 Hz [3].\n",
    "\n",
    "\n",
    "## Package requirements <a name='package_requirements'></a>\n",
    "\n",
    "Notes: \n",
    "\n",
    "1- You need to install gcloud if you haven't already. Alternatively, you can use the provided csv files that contain the data.\n"
   ]
  },
  {
   "cell_type": "code",
   "execution_count": 150,
   "metadata": {},
   "outputs": [],
   "source": [
    "\n",
    "from google.cloud import bigquery\n",
    "import pandas as pd\n",
    "import matplotlib.pyplot as plt\n",
    "import seaborn as sns\n",
    "import numpy as np\n",
    "\n",
    "\n",
    "\n",
    "# Formatting for my pandas dataframes, ignore:\n",
    "\n",
    "pd.set_option('display.max_columns', None)  # Show all columns\n",
    "pd.set_option('display.width', None) \n",
    "\n",
    "# Construct a BigQuery client\n",
    "client = bigquery.Client()"
   ]
  },
  {
   "cell_type": "markdown",
   "metadata": {},
   "source": [
    "# Data Importing <a name='importing'></a>\n",
    "By using SQL, I will import the required data into the local environment and organize it in a pandas dataset. For the purpose of this analysis, I will need:\n",
    "\n",
    "- subject_id: Unique identifier for each patient, used to link admissions and ECG records.- hadm_id: Identifier for each hospitalization event, allowing differentiation between multiple admissions for the same patient.\n",
    "- admittime/dischtime: Admission and discharge timestamps to determine the hospitalization period and align ECG events within the correct timeframe.\n",
    "- admission_type: Type of admission (e.g., emergency, elective) to categorize hospitalizations and assess their impact on ECG frequency.\n",
    "- admission_location: The location or source of admission (e.g., ER, clinic).\n",
    "- study_id: Unique identifier for each ECG study, used to track individual ECG events.\n",
    "- file_name: Name of the ECG file, useful for accessing raw waveform data if needed for deeper analysis.\n",
    "- ecg_time: Timestamp of when the ECG was performed, helps with determining its relation to the admission period.\n",
    "- path: File path to the ECG data, allowing retrieval of the raw ECG waveform files for further analysis if required."
   ]
  },
  {
   "cell_type": "code",
   "execution_count": 151,
   "metadata": {},
   "outputs": [
    {
     "name": "stderr",
     "output_type": "stream",
     "text": [
      "c:\\Users\\Vero Ramirez\\AppData\\Local\\Programs\\Python\\Python312\\Lib\\site-packages\\google\\cloud\\bigquery\\table.py:1727: UserWarning: BigQuery Storage module not found, fetch data with the REST endpoint instead.\n",
      "  warnings.warn(\n"
     ]
    },
    {
     "name": "stdout",
     "output_type": "stream",
     "text": [
      "\n",
      "Admissions data:\n",
      "   subject_id   hadm_id           admittime           dischtime  \\\n",
      "0    10106244  26713233 2147-05-09 10:34:00 2147-05-12 13:43:00   \n",
      "1    10106244  26713233 2147-05-09 10:34:00 2147-05-12 13:43:00   \n",
      "2    10106244  26713233 2147-05-09 10:34:00 2147-05-12 13:43:00   \n",
      "3    10106244  26713233 2147-05-09 10:34:00 2147-05-12 13:43:00   \n",
      "4    13700703  20448599 2172-09-25 01:01:00 2172-10-03 13:25:00   \n",
      "\n",
      "      admission_type  admission_location  study_id file_name  \\\n",
      "0       DIRECT EMER.  PHYSICIAN REFERRAL  49164244  49164244   \n",
      "1       DIRECT EMER.  PHYSICIAN REFERRAL  44859244  44859244   \n",
      "2       DIRECT EMER.  PHYSICIAN REFERRAL  40600970  40600970   \n",
      "3       DIRECT EMER.  PHYSICIAN REFERRAL  48644999  48644999   \n",
      "4  OBSERVATION ADMIT      EMERGENCY ROOM  45997419  45997419   \n",
      "\n",
      "             ecg_time                                      path  \n",
      "0 2147-05-09 11:06:00  files/p1010/p10106244/s49164244/49164244  \n",
      "1 2147-05-09 16:53:00  files/p1010/p10106244/s44859244/44859244  \n",
      "2 2147-05-10 08:17:00  files/p1010/p10106244/s40600970/40600970  \n",
      "3 2147-05-11 07:27:00  files/p1010/p10106244/s48644999/48644999  \n",
      "4 2172-09-26 11:00:00  files/p1370/p13700703/s45997419/45997419  \n"
     ]
    }
   ],
   "source": [
    "# Data importing \n",
    "\n",
    "# Fetch admissions data\n",
    "'''\n",
    "With the following code i will fetch both the ecg paths AND the admissions table, but only if the \n",
    "ecg was in the context of an admission this is to ensure that the ecgs were not taken during the\n",
    "same visit, and at two different times in the patients life, which can showcase the dynamic \n",
    "changes in the heart that ocur during hospitalizations. \n",
    "\n",
    "'''\n",
    "\n",
    "admissions_query = '''\n",
    "SELECT \n",
    "  a.subject_id,\n",
    "  a.hadm_id,\n",
    "  a.admittime,\n",
    "  a.dischtime,\n",
    "  a.admission_type,\n",
    "  a.admission_location,\n",
    "  e.study_id,\n",
    "  e.file_name,\n",
    "  e.ecg_time,\n",
    "  e.path\n",
    "FROM \n",
    "  `physionet-data.mimiciv_hosp.admissions` AS a\n",
    "LEFT JOIN \n",
    "  `physionet-data.mimiciv_ecg.record_list` AS e\n",
    "ON \n",
    "  a.subject_id = e.subject_id\n",
    "  AND e.ecg_time BETWEEN a.admittime AND a.dischtime                     \n",
    "\n",
    "'''\n",
    "\n",
    "# Fetch the admissions data as a DataFrame\n",
    "admissions = client.query(admissions_query).to_dataframe(create_bqstorage_client=True)\n",
    "\n",
    "# Save the admissions data to a CSV file\n",
    "\n",
    "path = r'C:\\Users\\Vero Ramirez\\Desktop\\CODE\\CODE\\admissions.csv'\n",
    "admissions.to_csv(path, index=False)\n",
    "\n",
    "print('\\nAdmissions data:')\n",
    "print(admissions.head())"
   ]
  },
  {
   "cell_type": "code",
   "execution_count": 152,
   "metadata": {},
   "outputs": [
    {
     "name": "stderr",
     "output_type": "stream",
     "text": [
      "C:\\Users\\Vero Ramirez\\AppData\\Local\\Temp\\ipykernel_10308\\1045624533.py:8: DtypeWarning: Columns (8,9) have mixed types. Specify dtype option on import or set low_memory=False.\n",
      "  admissions = pd.read_csv(path)\n"
     ]
    }
   ],
   "source": [
    "# Load the admissions data from the CSV file, \n",
    "\n",
    "'''\n",
    "Since running the query is time-consuming, I will save the data to a CSV file and load it from there. \n",
    "This approach will also help avoid additional costs and allow for more efficient work.\n",
    "'''\n",
    "path = r'C:\\Users\\Vero Ramirez\\Desktop\\CODE\\CODE\\admissions.csv'\n",
    "admissions = pd.read_csv(path)\n"
   ]
  },
  {
   "cell_type": "code",
   "execution_count": 153,
   "metadata": {},
   "outputs": [],
   "source": [
    "# First, lets drop any hospitalization that does not have an ecg \n",
    "'''\n",
    "We will drop any hospitalization that does not have an ECG, as the purpose of this report is to \n",
    "analyze whether there is enough data to analyze the dynamic changes in the heart during \n",
    "hospitalizations \n",
    "\n",
    "'''\n",
    "\n",
    "admissions = admissions.dropna(subset=['path'])                                                      # Drop rows with missing ECG paths  "
   ]
  },
  {
   "cell_type": "markdown",
   "metadata": {},
   "source": [
    "# Data filtering and visualization <a name='filtering'></a>\n",
    "\n",
    "At this point, we have a dataset containing all patients who were hospitalized at least once and received an ECG during their stay, regardless of their diagnosis. Our goal now is to determine the number of hospitalizations for each patient and the number of ECGs recorded during each hospitalization."
   ]
  },
  {
   "cell_type": "code",
   "execution_count": 154,
   "metadata": {},
   "outputs": [
    {
     "name": "stdout",
     "output_type": "stream",
     "text": [
      "   subject_id  Unique admissions\n",
      "0    10000935                  3\n",
      "1    10000980                  5\n",
      "2    10001401                  2\n",
      "3    10001877                  2\n",
      "4    10001884                 12\n",
      "   subject_id   hadm_id            admittime            dischtime  \\\n",
      "0    10106244  26713233  2147-05-09 10:34:00  2147-05-12 13:43:00   \n",
      "1    10106244  26713233  2147-05-09 10:34:00  2147-05-12 13:43:00   \n",
      "2    10106244  26713233  2147-05-09 10:34:00  2147-05-12 13:43:00   \n",
      "3    10106244  26713233  2147-05-09 10:34:00  2147-05-12 13:43:00   \n",
      "4    13700703  20448599  2172-09-25 01:01:00  2172-10-03 13:25:00   \n",
      "\n",
      "      admission_type  admission_location    study_id   file_name  \\\n",
      "0       DIRECT EMER.  PHYSICIAN REFERRAL  49164244.0  49164244.0   \n",
      "1       DIRECT EMER.  PHYSICIAN REFERRAL  44859244.0  44859244.0   \n",
      "2       DIRECT EMER.  PHYSICIAN REFERRAL  40600970.0  40600970.0   \n",
      "3       DIRECT EMER.  PHYSICIAN REFERRAL  48644999.0  48644999.0   \n",
      "4  OBSERVATION ADMIT      EMERGENCY ROOM  45997419.0  45997419.0   \n",
      "\n",
      "              ecg_time                                      path  \n",
      "0  2147-05-09 11:06:00  files/p1010/p10106244/s49164244/49164244  \n",
      "1  2147-05-09 16:53:00  files/p1010/p10106244/s44859244/44859244  \n",
      "2  2147-05-10 08:17:00  files/p1010/p10106244/s40600970/40600970  \n",
      "3  2147-05-11 07:27:00  files/p1010/p10106244/s48644999/48644999  \n",
      "4  2172-09-26 11:00:00  files/p1370/p13700703/s45997419/45997419  \n"
     ]
    }
   ],
   "source": [
    "# Lets drop the patients that only had one admission (the combination of subject_id and hadm_id \\\n",
    "# is unique)\n",
    "\n",
    "admission_counts = admissions.groupby('subject_id')['hadm_id'].nunique()                            # Count the number of admissions per patient\n",
    "admission_counts = admission_counts[admission_counts > 1]                                           # Filter patients with more than one admission \n",
    "admissions = admissions[admissions['subject_id'].isin(admission_counts.index)]                      # Filter the admissions dataframe to include only patients with more \n",
    "                                                                                                    # than one admission\n",
    "admission_counts = admission_counts.reset_index()\n",
    "admission_counts.columns = ['subject_id', 'Unique admissions']                                      # Rename the columns of admission_counts\n",
    "\n",
    "print(admission_counts.head())\n",
    "print(admissions.head())"
   ]
  },
  {
   "cell_type": "code",
   "execution_count": 155,
   "metadata": {},
   "outputs": [
    {
     "name": "stdout",
     "output_type": "stream",
     "text": [
      "After dropping the patients that only had one hospitalization, there are 26769 unique patients in the dataset with more than one admission, that have at least one ECG during their hospitalization.\n"
     ]
    }
   ],
   "source": [
    "# Lets see how many unique patients we have left\n",
    "\n",
    "unique_patients = admissions['subject_id'].nunique()\n",
    "\n",
    "print( f'After dropping the patients that only had one hospitalization, there are \\\n",
    "{unique_patients} unique patients in the dataset with more than one admission, that have at least \\\n",
    "one ECG during their hospitalization.')"
   ]
  },
  {
   "cell_type": "code",
   "execution_count": 156,
   "metadata": {},
   "outputs": [
    {
     "name": "stdout",
     "output_type": "stream",
     "text": [
      "   Number of admissions per patient  Number of patients\n",
      "0                                 2               14003\n",
      "1                                 3                5580\n",
      "2                                 4                2796\n",
      "3                                 5                1470\n",
      "4                                 6                 907\n",
      "count    26769.000000\n",
      "mean         3.355224\n",
      "std          2.700377\n",
      "min          2.000000\n",
      "25%          2.000000\n",
      "50%          2.000000\n",
      "75%          4.000000\n",
      "max         60.000000\n",
      "Name: hadm_id, dtype: float64\n"
     ]
    }
   ],
   "source": [
    "# Lets summarize how many patients have more than one admission and how many admissions they have\n",
    "'''\n",
    "It is important to see the distribution of patients by the number of admissions they have, as this\n",
    "will allow us to plan ahead what to do with our research\n",
    "\n",
    "'''\n",
    "admission_counts = admissions.groupby('subject_id')['hadm_id'].nunique()\n",
    "patients_per_admission = admission_counts.value_counts().sort_index()                               # Count the number of patients with a given number of admissions\n",
    "patients_per_admission = patients_per_admission.reset_index()                                       # Reset the index of the DataFrame     \n",
    "patients_per_admission.columns = ['Number of admissions per patient', \n",
    "                                  'Number of patients']                                             # Rename the columns for readability\n",
    "\n",
    "# Display the results\n",
    "print(patients_per_admission.head())\n",
    "print(admission_counts.describe())                                                                  # Summary statistics for the number of admissions\n"
   ]
  },
  {
   "cell_type": "code",
   "execution_count": 157,
   "metadata": {},
   "outputs": [
    {
     "data": {
      "image/png": "[encoded data removed]",
      "text/plain": [
       "<Figure size 1000x600 with 1 Axes>"
      ]
     },
     "metadata": {},
     "output_type": "display_data"
    }
   ],
   "source": [
    "# Lets plot the distribution of patients by the number of admissions \n",
    "'''\n",
    "There are multiple single patients that have more than 25 unique stays,\n",
    "Lets combine categories with more than 24 admissions to simplify the visualization.\n",
    "'''\n",
    "patients_per_admission['Number of admissions per patient'] = \\\n",
    "    patients_per_admission['Number of admissions per patient'].apply(\n",
    "        lambda x: '25+' if x > 24 else str(x))\n",
    "patients_per_admission = \\\n",
    "        patients_per_admission.groupby('Number of admissions per patient').sum().reset_index()       # Group by the new 'Number of admissions per patient' to sum up the patients \n",
    "\n",
    "# Calculate the percentage of patients for each category\n",
    "total_patients = patients_per_admission['Number of patients'].sum()                                 # Calculate the total number of patients\n",
    "patients_per_admission['Percentage of patients'] = \\\n",
    "    (patients_per_admission['Number of patients'] / total_patients) * 100\n",
    "patients_per_admission['Number of admissions per patient'] = pd.Categorical(                        # Convert the 'Number of admissions per patient' column to a categorical type\n",
    "    patients_per_admission['Number of admissions per patient'],\n",
    "    categories=[str(i) for i in range(1, 25)] + ['25+'],\n",
    "    ordered=True)\n",
    "\n",
    "# Plot the distribution \n",
    "plt.figure(figsize=(10, 6))\n",
    "sns.barplot(x='Number of admissions per patient', y='Percentage of patients', \n",
    "            data=patients_per_admission)\n",
    "plt.title('Distribution of Patients by the Number of Admissions (Percentage)')                      # Set the title and labels\n",
    "plt.ylabel('Percentage of Patients')\n",
    "plt.xlabel('Number of Admissions per Patient')\n",
    "plt.show()"
   ]
  },
  {
   "cell_type": "markdown",
   "metadata": {},
   "source": [
    "The data shows that most patients have two admissions, with the highest number of admissions per individual reaching 60. On average, each patient has 3.3 admissions with associated ECGs, and the standard deviation is 2.7. To better reflect the aging process, I am interested in analyzing only the first and last available ECGs. Therefore, we will filter out all intermediate ECGs."
   ]
  },
  {
   "cell_type": "code",
   "execution_count": 158,
   "metadata": {},
   "outputs": [
    {
     "name": "stdout",
     "output_type": "stream",
     "text": [
      "       subject_id      first_ecg_time       last_ecg_time\n",
      "0        10000935 2187-07-11 21:51:00 2187-10-10 20:39:00\n",
      "1        10000980 2188-01-03 19:56:00 2193-08-15 16:41:00\n",
      "2        10001401 2131-10-01 12:39:00 2131-11-14 03:16:00\n",
      "3        10001877 2149-05-25 02:44:00 2150-11-21 23:10:00\n",
      "4        10001884 2125-10-27 09:17:00 2131-01-13 08:25:00\n",
      "...           ...                 ...                 ...\n",
      "26764    19998497 2139-07-02 07:53:00 2145-07-30 19:21:00\n",
      "26765    19998562 2166-03-16 19:13:00 2166-04-16 10:27:00\n",
      "26766    19998770 2179-04-27 08:37:00 2182-08-20 12:43:00\n",
      "26767    19999287 2191-12-30 03:53:00 2197-08-05 02:06:00\n",
      "26768    19999840 2164-07-27 08:37:00 2164-09-17 11:31:00\n",
      "\n",
      "[26769 rows x 3 columns]\n"
     ]
    }
   ],
   "source": [
    "# Lets analyze the timing of ECGs during each hospitalization\n",
    "'''\n",
    "We will keep the first ECG for the first hospitalization and the last ECG for the last \n",
    "hospitalization of each patient, as this will allow us to analyze the dynamic changes in the heart\n",
    "'''\n",
    "admissions['ecg_time'] = pd.to_datetime(admissions['ecg_time'])                                     # Convert the 'ecg_time' column to datetime\n",
    "admissions = admissions.sort_values(by=['subject_id', 'ecg_time'])\n",
    "first_and_last_ecgs = admissions.groupby('subject_id').agg({'ecg_time': ['first', 'last']})\n",
    "first_and_last_ecgs.columns = ['first_ecg_time', 'last_ecg_time']                                    # Rename the columns for readability\n",
    "first_and_last_ecgs = first_and_last_ecgs.reset_index()\n",
    "print(first_and_last_ecgs)\n"
   ]
  },
  {
   "cell_type": "code",
   "execution_count": 159,
   "metadata": {},
   "outputs": [
    {
     "name": "stdout",
     "output_type": "stream",
     "text": [
      "   subject_id      first_ecg_time       last_ecg_time  time_difference\n",
      "0    10000935 2187-07-11 21:51:00 2187-10-10 20:39:00         3.031667\n",
      "1    10000980 2188-01-03 19:56:00 2193-08-15 16:41:00        68.362153\n",
      "2    10001401 2131-10-01 12:39:00 2131-11-14 03:16:00         1.453634\n",
      "3    10001877 2149-05-25 02:44:00 2150-11-21 23:10:00        18.195046\n",
      "4    10001884 2125-10-27 09:17:00 2131-01-13 08:25:00        63.465463 count    26769.000000\n",
      "mean        30.151750\n",
      "std         31.673684\n",
      "min          0.000000\n",
      "25%          3.854606\n",
      "50%         18.186042\n",
      "75%         48.539190\n",
      "max        132.387731\n",
      "Name: time_difference, dtype: float64\n"
     ]
    }
   ],
   "source": [
    "# Lets calculate the time between the first and last ECG for each patient\n",
    "'''\n",
    "We will calculate the time between the first and last ECG for each patient, as this will allow us to\n",
    "set a time frame for our analysis\n",
    "'''\n",
    "\n",
    "# Calculate the time difference in time between the first and last ECGs\n",
    "first_and_last_ecgs['time_difference'] = \\\n",
    "(first_and_last_ecgs['last_ecg_time'] - first_and_last_ecgs['first_ecg_time']).dt.total_seconds() / 3600\n",
    "\n",
    "# Convert the time difference to months\n",
    "first_and_last_ecgs['time_difference'] = first_and_last_ecgs['time_difference'] / (24*30)\n",
    "print(first_and_last_ecgs.head(), first_and_last_ecgs['time_difference'].describe())                # Summary statistics for the time difference\n"
   ]
  },
  {
   "cell_type": "code",
   "execution_count": 160,
   "metadata": {},
   "outputs": [
    {
     "data": {
      "image/png": "[encoded data removed]",
      "text/plain": [
       "<Figure size 1000x600 with 1 Axes>"
      ]
     },
     "metadata": {},
     "output_type": "display_data"
    }
   ],
   "source": [
    "# Lets plot the distribution of the time difference between the first and last ECGs\n",
    "\n",
    "plt.figure(figsize=(10, 6))\n",
    "sns.histplot(first_and_last_ecgs['time_difference'], bins=30, kde=True)\n",
    "plt.title('Time Difference Between the First and Last ECGs')                                        # Set the title and labels\n",
    "plt.xlabel('Time Difference (Months)')\n",
    "plt.ylabel('Number of Patients')\n",
    "plt.show()"
   ]
  },
  {
   "cell_type": "markdown",
   "metadata": {},
   "source": [
    "The average time between the first and last ECGs is 30 months, with a standard deviation of 31 months. The minimum time is 0 months, and the maximum is 132 months, equivalent to 11 years.\n",
    "\n",
    "With multiple patients having ECGs recorded across more than one hospitalization, we are well-positioned to analyze dynamic changes in the heart over time. Our next step is to examine the heart failure diagnoses to determine if we have sufficient information to develop a profile for these patients."
   ]
  },
  {
   "cell_type": "code",
   "execution_count": 161,
   "metadata": {},
   "outputs": [
    {
     "name": "stderr",
     "output_type": "stream",
     "text": [
      "c:\\Users\\Vero Ramirez\\AppData\\Local\\Programs\\Python\\Python312\\Lib\\site-packages\\google\\cloud\\bigquery\\table.py:1727: UserWarning: BigQuery Storage module not found, fetch data with the REST endpoint instead.\n",
      "  warnings.warn(\n"
     ]
    },
    {
     "name": "stdout",
     "output_type": "stream",
     "text": [
      "\n",
      "ICD guide data:\n",
      "  icd_code  icd_version                             long_title\n",
      "0     0010            9         Cholera due to vibrio cholerae\n",
      "1     0011            9  Cholera due to vibrio cholerae el tor\n",
      "2     0019            9                   Cholera, unspecified\n",
      "3     0020            9                          Typhoid fever\n",
      "4     0021            9                    Paratyphoid fever A\n",
      "\n",
      "ICD data:\n",
      "   subject_id   hadm_id icd_code  icd_version  seq_num\n",
      "0    10000980  25242409    72992            9       30\n",
      "1    10000980  25242409    E8497            9       34\n",
      "2    10002428  28662225    78097            9       26\n",
      "3    10003400  26467376    V8532            9       29\n",
      "4    10004401  29988601    04111            9       28\n"
     ]
    }
   ],
   "source": [
    "# Lets create a dataframe with the icd_codes and the icd guide\n",
    "'''\n",
    "We will fetch the ICD guide and the ICD data from the hosp module \n",
    "'''\n",
    "icd_query_guide = '''\n",
    "SELECT\n",
    "icd_code,\n",
    "icd_version,\n",
    "long_title\n",
    "FROM\n",
    "    `physionet-data.mimiciv_hosp.d_icd_diagnoses`\n",
    "'''\n",
    "\n",
    "icd_query = '''\n",
    "SELECT \n",
    "subject_id,\n",
    "hadm_id,\n",
    "icd_code,\n",
    "icd_version,\n",
    "seq_num\n",
    "FROM\n",
    "    `physionet-data.mimiciv_hosp.diagnoses_icd`\n",
    "\n",
    "'''\n",
    "#Fetch the data as a DataFrame\n",
    "icd_guide = client.query(icd_query_guide).to_dataframe(create_bqstorage_client=True)\n",
    "icd = client.query(icd_query).to_dataframe(create_bqstorage_client=True)\n",
    "\n",
    "# Display the first few rows of the DataFrames\n",
    "print('\\nICD guide data:')\n",
    "print(icd_guide.head())\n",
    "\n",
    "print('\\nICD data:')\n",
    "print(icd.head())"
   ]
  },
  {
   "cell_type": "code",
   "execution_count": 162,
   "metadata": {},
   "outputs": [],
   "source": [
    "# Lets merge the icd data with the icd guide data\n",
    "'''\n",
    "This will allow us to decipher the icd codes and see the different diagnosis for the patients with\n",
    "more than one admission\n",
    "'''\n",
    "icd_merged = pd.merge(icd, icd_guide, on=['icd_code', 'icd_version'], how='inner')\n",
    "\n",
    "# Save the merged ICD data to a CSV file so we can load it later without running the query again\n",
    "path = r'C:\\Users\\Vero Ramirez\\Desktop\\CODE\\CODE\\icd_merged.csv'\n",
    "icd_merged.to_csv(path, index=False)"
   ]
  },
  {
   "cell_type": "code",
   "execution_count": 163,
   "metadata": {},
   "outputs": [],
   "source": [
    "# Load the merged ICD data from the CSV file\n",
    "path = r'C:\\Users\\Vero Ramirez\\Desktop\\CODE\\CODE\\icd_merged.csv'\n",
    "icd_merged = pd.read_csv(path)"
   ]
  },
  {
   "cell_type": "code",
   "execution_count": 164,
   "metadata": {},
   "outputs": [
    {
     "data": {
      "text/html": [
       "<div>\n",
       "<style scoped>\n",
       "    .dataframe tbody tr th:only-of-type {\n",
       "        vertical-align: middle;\n",
       "    }\n",
       "\n",
       "    .dataframe tbody tr th {\n",
       "        vertical-align: top;\n",
       "    }\n",
       "\n",
       "    .dataframe thead th {\n",
       "        text-align: right;\n",
       "    }\n",
       "</style>\n",
       "<table border=\"1\" class=\"dataframe\">\n",
       "  <thead>\n",
       "    <tr style=\"text-align: right;\">\n",
       "      <th></th>\n",
       "      <th>subject_id</th>\n",
       "      <th>hadm_id</th>\n",
       "      <th>icd_code</th>\n",
       "      <th>icd_version</th>\n",
       "      <th>seq_num</th>\n",
       "      <th>long_title</th>\n",
       "    </tr>\n",
       "  </thead>\n",
       "  <tbody>\n",
       "    <tr>\n",
       "      <th>162</th>\n",
       "      <td>10258162</td>\n",
       "      <td>21744088</td>\n",
       "      <td>4280</td>\n",
       "      <td>9</td>\n",
       "      <td>29</td>\n",
       "      <td>Congestive heart failure, unspecified</td>\n",
       "    </tr>\n",
       "    <tr>\n",
       "      <th>276</th>\n",
       "      <td>10494089</td>\n",
       "      <td>25917748</td>\n",
       "      <td>4280</td>\n",
       "      <td>9</td>\n",
       "      <td>27</td>\n",
       "      <td>Congestive heart failure, unspecified</td>\n",
       "    </tr>\n",
       "    <tr>\n",
       "      <th>456</th>\n",
       "      <td>10800546</td>\n",
       "      <td>25150796</td>\n",
       "      <td>4280</td>\n",
       "      <td>9</td>\n",
       "      <td>27</td>\n",
       "      <td>Congestive heart failure, unspecified</td>\n",
       "    </tr>\n",
       "    <tr>\n",
       "      <th>539</th>\n",
       "      <td>10928511</td>\n",
       "      <td>24107609</td>\n",
       "      <td>4280</td>\n",
       "      <td>9</td>\n",
       "      <td>29</td>\n",
       "      <td>Congestive heart failure, unspecified</td>\n",
       "    </tr>\n",
       "    <tr>\n",
       "      <th>707</th>\n",
       "      <td>11165060</td>\n",
       "      <td>29991539</td>\n",
       "      <td>4280</td>\n",
       "      <td>9</td>\n",
       "      <td>27</td>\n",
       "      <td>Congestive heart failure, unspecified</td>\n",
       "    </tr>\n",
       "    <tr>\n",
       "      <th>...</th>\n",
       "      <td>...</td>\n",
       "      <td>...</td>\n",
       "      <td>...</td>\n",
       "      <td>...</td>\n",
       "      <td>...</td>\n",
       "      <td>...</td>\n",
       "    </tr>\n",
       "    <tr>\n",
       "      <th>4754912</th>\n",
       "      <td>11132535</td>\n",
       "      <td>20379929</td>\n",
       "      <td>I50810</td>\n",
       "      <td>10</td>\n",
       "      <td>25</td>\n",
       "      <td>Right heart failure, unspecified</td>\n",
       "    </tr>\n",
       "    <tr>\n",
       "      <th>4755628</th>\n",
       "      <td>15618712</td>\n",
       "      <td>26857232</td>\n",
       "      <td>I509</td>\n",
       "      <td>10</td>\n",
       "      <td>25</td>\n",
       "      <td>Heart failure, unspecified</td>\n",
       "    </tr>\n",
       "    <tr>\n",
       "      <th>4755658</th>\n",
       "      <td>15788406</td>\n",
       "      <td>22089377</td>\n",
       "      <td>I509</td>\n",
       "      <td>10</td>\n",
       "      <td>25</td>\n",
       "      <td>Heart failure, unspecified</td>\n",
       "    </tr>\n",
       "    <tr>\n",
       "      <th>4756053</th>\n",
       "      <td>18157237</td>\n",
       "      <td>28285611</td>\n",
       "      <td>I50810</td>\n",
       "      <td>10</td>\n",
       "      <td>25</td>\n",
       "      <td>Right heart failure, unspecified</td>\n",
       "    </tr>\n",
       "    <tr>\n",
       "      <th>4756289</th>\n",
       "      <td>19770161</td>\n",
       "      <td>21099154</td>\n",
       "      <td>I509</td>\n",
       "      <td>10</td>\n",
       "      <td>25</td>\n",
       "      <td>Heart failure, unspecified</td>\n",
       "    </tr>\n",
       "  </tbody>\n",
       "</table>\n",
       "<p>91805 rows × 6 columns</p>\n",
       "</div>"
      ],
      "text/plain": [
       "         subject_id   hadm_id icd_code  icd_version  seq_num  \\\n",
       "162        10258162  21744088     4280            9       29   \n",
       "276        10494089  25917748     4280            9       27   \n",
       "456        10800546  25150796     4280            9       27   \n",
       "539        10928511  24107609     4280            9       29   \n",
       "707        11165060  29991539     4280            9       27   \n",
       "...             ...       ...      ...          ...      ...   \n",
       "4754912    11132535  20379929   I50810           10       25   \n",
       "4755628    15618712  26857232     I509           10       25   \n",
       "4755658    15788406  22089377     I509           10       25   \n",
       "4756053    18157237  28285611   I50810           10       25   \n",
       "4756289    19770161  21099154     I509           10       25   \n",
       "\n",
       "                                    long_title  \n",
       "162      Congestive heart failure, unspecified  \n",
       "276      Congestive heart failure, unspecified  \n",
       "456      Congestive heart failure, unspecified  \n",
       "539      Congestive heart failure, unspecified  \n",
       "707      Congestive heart failure, unspecified  \n",
       "...                                        ...  \n",
       "4754912       Right heart failure, unspecified  \n",
       "4755628             Heart failure, unspecified  \n",
       "4755658             Heart failure, unspecified  \n",
       "4756053       Right heart failure, unspecified  \n",
       "4756289             Heart failure, unspecified  \n",
       "\n",
       "[91805 rows x 6 columns]"
      ]
     },
     "execution_count": 164,
     "metadata": {},
     "output_type": "execute_result"
    }
   ],
   "source": [
    "# Lets filter the icd data to only include heart failure diagnosis\n",
    "\n",
    "'''\n",
    "We will filter the icd data to only include heart failure diagnosis. The codes for heart failure\n",
    "were taken from Yang et al. (2019) [4]\n",
    "'''\n",
    "heart_failure_icd9 = [\n",
    "    '428', '4280', '4281', '4282', '42820', '42821', '42822', '42823', \n",
    "    '4283', '42830', '42831', '42832', '42833', '4284', '42840', '42841', \n",
    "    '42842', '42843', '4289', '40201', '40211', '40291', '40401', \n",
    "    '40403', '40411', '40413', '40491', '40493']\n",
    "\n",
    "heart_failure_icd10 = [\n",
    "    'I50', 'I501', 'I502', 'I5020', 'I5021', 'I5022', 'I5023', \n",
    "    'I503', 'I5030', 'I5031', 'I5032', 'I5033', 'I504', 'I5040', \n",
    "    'I5041', 'I5042', 'I5043', 'I508', 'I5081', 'I50810', 'I50811', \n",
    "    'I50812', 'I50813', 'I50814', 'I5082', 'I5083', 'I5084', 'I5089', \n",
    "    'I509']\n",
    "\n",
    "heart_failure_codes = heart_failure_icd9 + heart_failure_icd10\n",
    "heart_failure_data = icd_merged[icd_merged['icd_code'].isin(heart_failure_codes)]                   # Filter the ICD data to include only heart failure diagnoses\n",
    "\n",
    "heart_failure_data                                                                                  # Display the filtered data"
   ]
  },
  {
   "cell_type": "code",
   "execution_count": 165,
   "metadata": {},
   "outputs": [
    {
     "name": "stdout",
     "output_type": "stream",
     "text": [
      "   subject_id   hadm_id            admittime            dischtime  \\\n",
      "0    10000980  29654838  2188-01-03 17:41:00  2188-01-05 17:30:00   \n",
      "1    10000980  29654838  2188-01-03 17:41:00  2188-01-05 17:30:00   \n",
      "2    10000980  29654838  2188-01-03 17:41:00  2188-01-05 17:30:00   \n",
      "3    10000980  29654838  2188-01-03 17:41:00  2188-01-05 17:30:00   \n",
      "4    10000980  26913865  2189-06-27 07:38:00  2189-07-03 03:00:00   \n",
      "\n",
      "  admission_type admission_location    study_id   file_name  \\\n",
      "0       EW EMER.     EMERGENCY ROOM  47004256.0  47004256.0   \n",
      "1       EW EMER.     EMERGENCY ROOM  47004256.0  47004256.0   \n",
      "2       EW EMER.     EMERGENCY ROOM  49560547.0  49560547.0   \n",
      "3       EW EMER.     EMERGENCY ROOM  49560547.0  49560547.0   \n",
      "4       EW EMER.     EMERGENCY ROOM  49245181.0  49245181.0   \n",
      "\n",
      "             ecg_time                                      path  \\\n",
      "0 2188-01-03 19:56:00  files/p1000/p10000980/s47004256/47004256   \n",
      "1 2188-01-03 19:56:00  files/p1000/p10000980/s47004256/47004256   \n",
      "2 2188-01-04 16:43:00  files/p1000/p10000980/s49560547/49560547   \n",
      "3 2188-01-04 16:43:00  files/p1000/p10000980/s49560547/49560547   \n",
      "4 2189-06-27 07:58:00  files/p1000/p10000980/s49245181/49245181   \n",
      "\n",
      "       first_ecg_time       last_ecg_time  time_difference icd_code  \\\n",
      "0 2188-01-03 19:56:00 2193-08-15 16:41:00        68.362153     4280   \n",
      "1 2188-01-03 19:56:00 2193-08-15 16:41:00        68.362153    42833   \n",
      "2 2188-01-03 19:56:00 2193-08-15 16:41:00        68.362153     4280   \n",
      "3 2188-01-03 19:56:00 2193-08-15 16:41:00        68.362153    42833   \n",
      "4 2188-01-03 19:56:00 2193-08-15 16:41:00        68.362153     4280   \n",
      "\n",
      "   icd_version  seq_num                                long_title  \n",
      "0            9       10     Congestive heart failure, unspecified  \n",
      "1            9        1  Acute on chronic diastolic heart failure  \n",
      "2            9       10     Congestive heart failure, unspecified  \n",
      "3            9        1  Acute on chronic diastolic heart failure  \n",
      "4            9        6     Congestive heart failure, unspecified  \n"
     ]
    }
   ],
   "source": [
    "# Lets merge the heart failure data with the admissions data\n",
    "\n",
    "'''\n",
    "We will only include the patients that have a heart failure diagnosis in the admissions data of \n",
    "patients,but just for the first and last hospitalization corresponding to the first and last ECGs \n",
    "of each patient.\n",
    "'''\n",
    "\n",
    "#First, lets drop any hospitalization that is not the first or last hospitalization of each patient\n",
    "admissions_merged = pd.merge(admissions, first_and_last_ecgs, on='subject_id', how='inner')          # Merge the admissions data with the first and last ECGs data\n",
    "\n",
    "# Then, lets merge the heart failure data with the admissions data\n",
    "heart_failure_admissions = \\\n",
    "    pd.merge(admissions_merged, heart_failure_data, on=['subject_id', 'hadm_id'], how='inner')\n",
    "    \n",
    "#Now, lets merge the heart failure data with the admissions data\n",
    "heart_failure_admissions = \\\n",
    "    pd.merge(admissions_merged, heart_failure_data, on=['subject_id', 'hadm_id'], how='inner')\n",
    "print(heart_failure_admissions.head() )                                                             # Display the first few rows of the merged data                                     "
   ]
  },
  {
   "cell_type": "code",
   "execution_count": 166,
   "metadata": {},
   "outputs": [
    {
     "data": {
      "text/plain": [
       "count    114291.000000\n",
       "mean         40.435676\n",
       "std          35.290423\n",
       "min           0.018032\n",
       "25%           8.476065\n",
       "50%          32.257384\n",
       "75%          64.031412\n",
       "max         132.387731\n",
       "Name: time_difference, dtype: float64"
      ]
     },
     "execution_count": 166,
     "metadata": {},
     "output_type": "execute_result"
    }
   ],
   "source": [
    "# Now, lets summarize the time difference between the first and last ECGs for patients with heart\n",
    "# failure\n",
    "\n",
    "heart_failure_admissions['time_difference'].describe()                                               # Summary statistics for the time difference"
   ]
  },
  {
   "cell_type": "markdown",
   "metadata": {},
   "source": [
    "- The time difference between the first and last ECGs for patients with heart failure is similar to the overall time difference for all patients.\n",
    "- The mean time difference is approximately 40 months, with a standard deviation of 35 months.\n",
    "- The minimum time difference is less than 1 month, and the maximum time difference is 132 months."
   ]
  },
  {
   "cell_type": "code",
   "execution_count": 167,
   "metadata": {},
   "outputs": [
    {
     "data": {
      "image/png": "[encoded data removed]",
      "text/plain": [
       "<Figure size 1000x600 with 1 Axes>"
      ]
     },
     "metadata": {},
     "output_type": "display_data"
    }
   ],
   "source": [
    "# Lets plot the distribution of the time difference between the first and last ECGs\n",
    "\n",
    "# Only keep one register per admission\n",
    "heart_failure_admissions_plot = \\\n",
    "heart_failure_admissions.drop_duplicates(subset=['subject_id', 'hadm_id'])\n",
    "\n",
    "\n",
    "plt.figure(figsize=(10, 6))\n",
    "sns.histplot(heart_failure_admissions_plot['time_difference'], bins=30, kde=True)\n",
    "plt.title('Time Difference Between the First and Last ECGs')                                        # Set the title and labels\n",
    "plt.xlabel('Time Difference (Months)')\n",
    "plt.ylabel('Number of Patients')\n",
    "plt.show()"
   ]
  },
  {
   "cell_type": "code",
   "execution_count": 168,
   "metadata": {},
   "outputs": [
    {
     "name": "stdout",
     "output_type": "stream",
     "text": [
      "There are 6446 patients with a time difference between the first and last ECGs longer than 1 year.\n"
     ]
    }
   ],
   "source": [
    "# How many patients have a time difference thats longer than 1 year?\n",
    "\n",
    "heart_failure_admissions_long = \\\n",
    "heart_failure_admissions[heart_failure_admissions['time_difference'] > 12]                          # Filter patients with a time difference longer than 1 year\n",
    "number_of_patients = heart_failure_admissions_long['subject_id'].nunique()                          # Count the number of unique patients\n",
    "print(f'There are {number_of_patients} patients with a time difference between the first and last \\\n",
    "ECGs longer than 1 year.')"
   ]
  },
  {
   "cell_type": "markdown",
   "metadata": {},
   "source": [
    "Similar to the previous plot, the distribution of time differences between the first and last ECGs is right-skewed. Most patients have a time difference of less than 10 months, yet there are thousands of patients with differences exceeding 12 months. This indicates a substantial dataset available for analyzing the dynamic changes in the heart over time."
   ]
  },
  {
   "cell_type": "code",
   "execution_count": 169,
   "metadata": {},
   "outputs": [
    {
     "name": "stdout",
     "output_type": "stream",
     "text": [
      "There are 10158 unique patients in the dataset with more than one admission, that have at least one ECG during their hospitalization and a heart failure diagnosis during each hospitalization.\n"
     ]
    }
   ],
   "source": [
    "# lets see how many unique patients we have left\n",
    "\n",
    "'''\n",
    "These patients have the following characteristics:\n",
    "- They have more than one admission distributed over time\n",
    "- They have at least one ECG during their hospitalization\n",
    "- They have a heart failure diagnosis during each of their hospitalizations\n",
    "'''\n",
    "\n",
    "unique_patients = heart_failure_admissions['subject_id'].nunique()\n",
    "print(f'There are {unique_patients} unique patients in the dataset with more than one admission, \\\n",
    "that have at least one ECG during their hospitalization and a heart failure diagnosis during each \\\n",
    "hospitalization.')\n"
   ]
  },
  {
   "cell_type": "markdown",
   "metadata": {},
   "source": [
    "# Conclusions and plan <a name='conclusions'></a>\n",
    "\n",
    "- The MIMIC database contains a significant number of sequential ECGs recorded at various times of an individuals life.\n",
    "- There are 6,400 patients with ECGs showing a time gap of more than one year between recordings.\n",
    "- Aging profiles could be analyzed for patients, especially those diagnosed with heart failure. While this analysis won't establish causation between the chronic disease and aging, it can provide insights into how heart failure impacts biological age, as estimated using deep learning techniques.\n",
    "\n",
    "Possible Plan Modification:\n",
    "\n",
    "- We could analyze the heart profile changes over a one-year period for patients diagnosed with heart failure and compare these changes to a three-year mortality rate. Although we cannot establish causality due to the lack of information on other exposures between hospitalizations, this approach could offer insights into how heart aging progresses in this population. Additionally, it might reveal whether a greater difference in aging profiles is associated with mortality among hospitalized patients."
   ]
  },
  {
   "cell_type": "markdown",
   "metadata": {},
   "source": [
    "# References <a name='references'></a>\n",
    "1. Johnson, Alistair, et al. \"MIMIC-IV: A freely accessible electronic health record dataset.\" Schnpj (2021): 36596836. PubMed MIMIC-IV v2.2. PhysioNet\n",
    "1. Johnson, A., Bulgarelli, L., Pollard, T., Horng, S., Celi, L. A., & Mark, R. (2023). MIMIC-IV (version 2.2). PhysioNet. https://doi.org/10.13026/6mm1-ek67.\n",
    "1. Gow, B., Pollard, T., Nathanson, L. A., Johnson, A., Moody, B., Fernandes, C., Greenbaum, N., Waks, J. W., Eslami, P., Carbonati, T., Chaudhari, A., Herbst, E., Moukheiber, D., Berkowitz, S., Mark, R., & Horng, S. (2023). MIMIC-IV-ECG: Diagnostic Electrocardiogram Matched Subset (version 1.0). PhysioNet. https://doi.org/10.13026/4nqg-sb35.\n",
    "1. Fan J, Li X, Yu X, Liu Z, Jiang Y, Fang Y, et al. Global Burden, Risk Factor Analysis, and Prediction Study of Ischemic Stroke, 1990–2030. Neurology [Internet]. 2023 Jul 11 [cited 2024 Jun 30];101(2). Available from: https://www.neurology.org/doi/10.1212/WNL.0000000000207387\n",
    "1. Yang X, Gong Y, Waheed N, March K, Bian J, Hogan WR, et al. Identifying Cancer Patients at Risk for Heart Failure Using Machine Learning Methods. AMIA Annu Symp Proc. 2019;2019:933-41."
   ]
  }
 ],
 "metadata": {
  "kernelspec": {
   "display_name": "Python 3",
   "language": "python",
   "name": "python3"
  },
  "language_info": {
   "codemirror_mode": {
    "name": "ipython",
    "version": 3
   },
   "file_extension": ".py",
   "mimetype": "text/x-python",
   "name": "python",
   "nbconvert_exporter": "python",
   "pygments_lexer": "ipython3",
   "version": "3.12.4"
  }
 },
 "nbformat": 4,
 "nbformat_minor": 2
}
